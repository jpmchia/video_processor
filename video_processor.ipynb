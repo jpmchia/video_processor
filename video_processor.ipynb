{
 "cells": [
  {
   "cell_type": "code",
   "execution_count": null,
   "id": "fd86a8a3",
   "metadata": {},
   "outputs": [],
   "source": [
    "import os\n",
    "import sys\n",
    "import time\n",
    "from pathlib import Path\n",
    "\n",
    "# Add the project root to the path\n",
    "project_root = Path().absolute().parent\n",
    "if str(project_root) not in sys.path:\n",
    "    sys.path.insert(0, str(project_root))\n",
    "\n",
    "# Import our modules\n",
    "from models import get_model, model_manager\n",
    "\n",
    "# Import the jupyter_interface directly from the ui module\n",
    "try:\n",
    "    # This is the correct import path based on your project structure\n",
    "    from ui.jupyter_interface import main_jupyter\n",
    "    print(\"Successfully imported main_jupyter\")\n",
    "except ImportError as e:\n",
    "    print(f\"Error importing main_jupyter: {e}\")\n",
    "\n",
    "# Check if we're running in a Jupyter notebook\n",
    "try:\n",
    "    import IPython\n",
    "    is_jupyter = IPython.get_ipython().__class__.__name__ == 'ZMQInteractiveShell'\n",
    "    print(f\"Running in Jupyter: {is_jupyter}\")\n",
    "except (ImportError, AttributeError):\n",
    "    is_jupyter = False\n",
    "    print(\"Not running in Jupyter\")\n",
    "\n",
    "# Launch the Jupyter interface\n",
    "main_jupyter()"
   ]
  }
 ],
 "metadata": {
  "kernelspec": {
   "display_name": ".venv",
   "language": "python",
   "name": "python3"
  },
  "language_info": {
   "codemirror_mode": {
    "name": "ipython",
    "version": 3
   },
   "file_extension": ".py",
   "mimetype": "text/x-python",
   "name": "python",
   "nbconvert_exporter": "python",
   "pygments_lexer": "ipython3",
   "version": "3.12.3"
  }
 },
 "nbformat": 4,
 "nbformat_minor": 5
}
